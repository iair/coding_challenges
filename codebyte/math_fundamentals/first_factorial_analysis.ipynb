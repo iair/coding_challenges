{
 "cells": [
  {
   "cell_type": "markdown",
   "metadata": {},
   "source": [
    "## **Results**"
   ]
  },
  {
   "cell_type": "markdown",
   "metadata": {},
   "source": [
    "**Here is the performance comparison for the three approaches:**\n",
    "\n",
    "* Iterative Approach (first_factorial_1): 1.315 seconds\n",
    "* Reduce Approach (first_factorial_2): 2.791 seconds\n",
    "* Math Approach (first_factorial_3 using math.factorial()): 0.247 seconds"
   ]
  },
  {
   "cell_type": "markdown",
   "metadata": {},
   "source": [
    "## **Why the iterative approach is faster than the reduce() approach?**"
   ]
  },
  {
   "cell_type": "markdown",
   "metadata": {},
   "source": [
    "This is expected because:\n",
    "\n",
    "* The iterative method has less overhead, as it directly performs the multiplication without the added function call and lambda expression used in reduce().\n",
    "* Using reduce() with a lambda function introduces additional call overhead for each pair of numbers, which slows down execution.\n",
    "\n",
    "Conclusion: For calculating the factorial of small integers (like in the range 1 to 18), the iterative approach is more efficient. For larger numbers, using math.factorial() is recommended for even better performance."
   ]
  },
  {
   "cell_type": "markdown",
   "metadata": {},
   "source": [
    "## **Why the built-in math.factorial() is faster?**"
   ]
  },
  {
   "cell_type": "markdown",
   "metadata": {},
   "source": [
    "The built-in `math.factorial()` function in Python is faster than both the iterative and `reduce` approaches because:\n",
    "\n",
    "### 1. **Implementation in C**\n",
    "   - `math.factorial()` is part of the Python `math` module, which is written in C, a low-level programming language. C code runs significantly faster than Python code due to its compiled nature and optimizations that are not feasible in pure Python.\n",
    "   - Python’s `math` library, being written in C, executes factorial computations at a speed optimized for performance, without the overhead of Python’s dynamic type-checking and function-call mechanisms.\n",
    "\n",
    "### 2. **Optimized Algorithm**\n",
    "   - The `math.factorial()` function is highly optimized specifically for computing factorials. It likely uses an efficient algorithm that minimizes the number of operations, possibly including optimized multiplication techniques or loop unrolling, which reduces the number of times Python must execute each line of code.\n",
    "   - In contrast, the iterative approach and `reduce` with a lambda function perform straightforward multiplication operations without these optimizations.\n",
    "\n",
    "### 3. **Avoiding Python Overhead**\n",
    "   - Each operation in Python carries some overhead due to the way Python manages memory, data types, and error checking dynamically. This overhead is especially pronounced in Python's `reduce()` function, which adds additional function calls for each step.\n",
    "   - `math.factorial()` sidesteps most of this overhead, performing all the required calculations internally in C, thus avoiding repeated calls to Python’s own operators or functions.\n",
    "\n",
    "### 4. **Memory Efficiency**\n",
    "   - The built-in `math.factorial()` is optimized to handle large numbers efficiently within Python’s arbitrary-precision integer management. This is important because factorial values grow extremely large very quickly.\n",
    "\n",
    "For these reasons, whenever possible, it’s recommended to use `math.factorial()` for factorial calculations in Python, especially when performance is important."
   ]
  },
  {
   "cell_type": "markdown",
   "metadata": {},
   "source": [
    "## **What is *Python’s Arbitrary-Precision Integer Management***?"
   ]
  },
  {
   "cell_type": "markdown",
   "metadata": {},
   "source": [
    "In most programming languages, **integers have a fixed size**, typically limited to a specific number of bits (e.g., 32-bit or 64-bit integers). This limits the range of integer values:\n",
    "\n",
    "- A **32-bit integer** can store values from \\(-2^{31}\\) to \\(2^{31} - 1\\) (about \\(-2.1\\) billion to \\(2.1\\) billion).\n",
    "- A **64-bit integer** can store values from \\(-2^{63}\\) to \\(2^{63} - 1\\) (about \\(-9.2 \\times 10^{18}\\) to \\(9.2 \\times 10^{18}\\)).\n",
    "\n",
    "For very large calculations like factorials, these fixed-size integers will quickly overflow (exceed the maximum representable value), causing errors or incorrect results.\n",
    "\n",
    "**Python’s Solution: Arbitrary-Precision Integers**\n",
    "\n",
    "Python uses a different approach. Instead of fixed-size integers, Python’s `int` type is **arbitrary-precision**, which means:\n",
    "\n",
    "- Python’s integers can grow as large as the available memory allows.\n",
    "- Python automatically switches from a fixed-size representation (e.g., 32-bit or 64-bit) to a **variable-length representation** when the value exceeds the range of a typical integer.\n",
    "\n",
    "**Example of Arbitrary-Precision**\n",
    "\n",
    "Let's see this in action with factorial calculations:\n",
    "\n",
    "```python\n",
    "# Factorial of 20\n",
    "print(20 * 19 * 18 * 17 * 16 * 15 * 14 * 13 * 12 * 11 * 10 * 9 * 8 * 7 * 6 * 5 * 4 * 3 * 2 * 1)\n",
    "# Output: 2432902008176640000\n",
    "\n",
    "# Factorial of 100 (a much larger number)\n",
    "import math\n",
    "print(math.factorial(100))\n",
    "# Output: 93326215443944152681699238856266700490715968264381621468592963895217599993229915608941463976156518286253697920827223758251185210916864000000000000000000000000"
   ]
  },
  {
   "cell_type": "markdown",
   "metadata": {},
   "source": [
    "In the above example, the factorial of 100 results in a very large number (158 digits!). In a language with fixed-size integers, this would cause an overflow, but Python handles it seamlessly.\n",
    "\n",
    "**How Does Python Achieve This?**\n",
    "\n",
    "Python uses an internal data structure called bignum (or bigint), which:\n",
    "\n",
    "- Represents very large numbers using arrays of digits.\n",
    "- Dynamically allocates more memory as the number grows.\n",
    "- Efficiently manages arithmetic operations (addition, multiplication, etc.) using algorithms optimized for large numbers.\n",
    "\n",
    "**Performance Consideration**\n",
    "\n",
    "The arbitrary-precision feature in Python is great because it eliminates the risk of overflow errors, but it comes at a cost:\n",
    "\n",
    "- Speed: Operations on large integers are slower compared to fixed-size integers because they require more complex arithmetic.\n",
    "- Memory: Large integers consume more memory since they are represented using multiple digits instead of a single fixed-size block.\n",
    "\n",
    "**Summary**\n",
    "\n",
    "Python’s arbitrary-precision integer management allows it to handle extremely large integers without overflow, making it well-suited for tasks like computing large factorials. This feature is one of the reasons why math.factorial() is so efficient and robust."
   ]
  }
 ],
 "metadata": {
  "language_info": {
   "name": "python"
  }
 },
 "nbformat": 4,
 "nbformat_minor": 2
}
